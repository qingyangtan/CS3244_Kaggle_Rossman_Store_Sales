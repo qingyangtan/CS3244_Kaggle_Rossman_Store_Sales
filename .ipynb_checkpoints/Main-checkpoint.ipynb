{
 "cells": [
  {
   "cell_type": "markdown",
   "metadata": {},
   "source": [
    "### Feature Proprocessing"
   ]
  },
  {
   "cell_type": "code",
   "execution_count": 48,
   "metadata": {
    "collapsed": true
   },
   "outputs": [],
   "source": [
    "import numpy as np\n",
    "import pandas as pd\n",
    "import matplotlib.pyplot as plt\n",
    "from sklearn.preprocessing import LabelEncoder"
   ]
  },
  {
   "cell_type": "code",
   "execution_count": 49,
   "metadata": {
    "collapsed": true
   },
   "outputs": [],
   "source": [
    "store = pd.read_csv('store.csv')\n",
    "train = pd.read_csv('train.csv',dtype={\"StateHoliday\": str})\n",
    "test = pd.read_csv('test.csv')"
   ]
  },
  {
   "cell_type": "code",
   "execution_count": 50,
   "metadata": {
    "collapsed": true
   },
   "outputs": [],
   "source": [
    "## converting dates into year, month, day and additional feature week of the year\n",
    "def date_convert(df):\n",
    "    df['Date']  = pd.to_datetime(df['Date'], errors='coerce')\n",
    "    df['Year']  = df['Date'].dt.year\n",
    "    df['Month'] = df['Date'].dt.month\n",
    "    df['Day'] = df['Date'].dt.day\n",
    "    df['WeekOfYear'] = df['Date'].dt.weekofyear\n",
    "    return df\n",
    "\n",
    "## adjust and standardise the mappings for all the categorical variables.\n",
    "def mapping_encoding(df):\n",
    "    mappings = {'0': 0, 'a': 1, 'b': 2, 'c': 3, 'd': 4}\n",
    "    mappings_month = {1:'Jan', 2:'Feb', 3:'Mar', 4:'Apr', 5:'May', 6:'Jun', 7:'Jul', 8:'Aug', 9:'Sept', 10:'Oct', 11:'Nov', 12:'Dec'}\n",
    "    ## replace with values so they can be one hot encoded\n",
    "    df.StoreType.replace(mappings, inplace=True)\n",
    "    df.Assortment.replace(mappings, inplace=True)\n",
    "    df.StateHoliday.replace(mappings, inplace=True)\n",
    "    df.PromoInterval.replace(mappings, inplace=True)\n",
    "    \n",
    "    df['StateHoliday'] = LabelEncoder().fit_transform(df['StateHoliday'])\n",
    "    df['Assortment']   = LabelEncoder().fit_transform(df['Assortment'])\n",
    "    df['StoreType']    = LabelEncoder().fit_transform(df['StoreType'])\n",
    "    return df\n",
    "\n",
    "def "
   ]
  },
  {
   "cell_type": "code",
   "execution_count": 51,
   "metadata": {
    "collapsed": true
   },
   "outputs": [],
   "source": [
    "## removed 0 sales because they are not used in grading\n",
    "train = train[train.Sales != 0]\n",
    "\n",
    "## fill the N.A.N values\n",
    "store = store.fillna(0)\n",
    "\n",
    "## combine all features together\n",
    "df = train.merge(store, on='Store')\n",
    "\n",
    "## label encode the categories into numbers\n",
    "df = mapping_encoding(date_convert(df))"
   ]
  },
  {
   "cell_type": "code",
   "execution_count": 105,
   "metadata": {},
   "outputs": [
    {
     "data": {
      "text/html": [
       "<div>\n",
       "<table border=\"1\" class=\"dataframe\">\n",
       "  <thead>\n",
       "    <tr style=\"text-align: right;\">\n",
       "      <th></th>\n",
       "      <th>Store</th>\n",
       "      <th>DayOfWeek</th>\n",
       "      <th>Date</th>\n",
       "      <th>Customers</th>\n",
       "      <th>Open</th>\n",
       "      <th>Promo</th>\n",
       "      <th>StateHoliday</th>\n",
       "      <th>SchoolHoliday</th>\n",
       "      <th>Id</th>\n",
       "    </tr>\n",
       "  </thead>\n",
       "  <tbody>\n",
       "    <tr>\n",
       "      <th>0</th>\n",
       "      <td>1</td>\n",
       "      <td>5</td>\n",
       "      <td>2015-07-31</td>\n",
       "      <td>555</td>\n",
       "      <td>1</td>\n",
       "      <td>1</td>\n",
       "      <td>0</td>\n",
       "      <td>1</td>\n",
       "      <td>(1, 2015-07-31)</td>\n",
       "    </tr>\n",
       "    <tr>\n",
       "      <th>1</th>\n",
       "      <td>2</td>\n",
       "      <td>5</td>\n",
       "      <td>2015-07-31</td>\n",
       "      <td>625</td>\n",
       "      <td>1</td>\n",
       "      <td>1</td>\n",
       "      <td>0</td>\n",
       "      <td>1</td>\n",
       "      <td>(2, 2015-07-31)</td>\n",
       "    </tr>\n",
       "    <tr>\n",
       "      <th>2</th>\n",
       "      <td>3</td>\n",
       "      <td>5</td>\n",
       "      <td>2015-07-31</td>\n",
       "      <td>821</td>\n",
       "      <td>1</td>\n",
       "      <td>1</td>\n",
       "      <td>0</td>\n",
       "      <td>1</td>\n",
       "      <td>(3, 2015-07-31)</td>\n",
       "    </tr>\n",
       "    <tr>\n",
       "      <th>3</th>\n",
       "      <td>4</td>\n",
       "      <td>5</td>\n",
       "      <td>2015-07-31</td>\n",
       "      <td>1498</td>\n",
       "      <td>1</td>\n",
       "      <td>1</td>\n",
       "      <td>0</td>\n",
       "      <td>1</td>\n",
       "      <td>(4, 2015-07-31)</td>\n",
       "    </tr>\n",
       "    <tr>\n",
       "      <th>4</th>\n",
       "      <td>5</td>\n",
       "      <td>5</td>\n",
       "      <td>2015-07-31</td>\n",
       "      <td>559</td>\n",
       "      <td>1</td>\n",
       "      <td>1</td>\n",
       "      <td>0</td>\n",
       "      <td>1</td>\n",
       "      <td>(5, 2015-07-31)</td>\n",
       "    </tr>\n",
       "  </tbody>\n",
       "</table>\n",
       "</div>"
      ],
      "text/plain": [
       "   Store  DayOfWeek        Date  Customers  Open  Promo  StateHoliday  \\\n",
       "0      1          5  2015-07-31        555     1      1             0   \n",
       "1      2          5  2015-07-31        625     1      1             0   \n",
       "2      3          5  2015-07-31        821     1      1             0   \n",
       "3      4          5  2015-07-31       1498     1      1             0   \n",
       "4      5          5  2015-07-31        559     1      1             0   \n",
       "\n",
       "   SchoolHoliday               Id  \n",
       "0              1  (1, 2015-07-31)  \n",
       "1              1  (2, 2015-07-31)  \n",
       "2              1  (3, 2015-07-31)  \n",
       "3              1  (4, 2015-07-31)  \n",
       "4              1  (5, 2015-07-31)  "
      ]
     },
     "execution_count": 105,
     "metadata": {},
     "output_type": "execute_result"
    }
   ],
   "source": [
    "store1 = df.loc[df.Store == 1]\n",
    "#store1.CompetitionOpenSinceYear\n",
    "#plt.plot(store1.CompetitionOpenSinceMonth)\n",
    "#plt.plot(store1.Sales)\n",
    "plt.show()\n",
    "s = test[\"Store\"]\n",
    "d = test[\"Date\"]\n",
    "test['Id'] = list(zip(test.Store, test.Date))\n",
    "test.head()"
   ]
  },
  {
   "cell_type": "markdown",
   "metadata": {},
   "source": [
    "References:\n",
    "- https://datascience.stackexchange.com/questions/9777/one-hot-vector-representation-vs-label-encoding-for-categorical-variables\n",
    "- https://datascience.stackexchange.com/questions/9443/when-to-use-one-hot-encoding-vs-labelencoder-vs-dictvectorizor"
   ]
  }
 ],
 "metadata": {
  "kernelspec": {
   "display_name": "Python 3",
   "language": "python",
   "name": "python3"
  },
  "language_info": {
   "codemirror_mode": {
    "name": "ipython",
    "version": 3
   },
   "file_extension": ".py",
   "mimetype": "text/x-python",
   "name": "python",
   "nbconvert_exporter": "python",
   "pygments_lexer": "ipython3",
   "version": "3.6.1"
  }
 },
 "nbformat": 4,
 "nbformat_minor": 2
}
