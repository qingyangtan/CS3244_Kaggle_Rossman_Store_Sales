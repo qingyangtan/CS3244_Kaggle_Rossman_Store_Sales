{
 "cells": [
  {
   "cell_type": "markdown",
   "metadata": {},
   "source": [
    "### Feature Proprocessing"
   ]
  },
  {
   "cell_type": "code",
   "execution_count": 3,
   "metadata": {
    "collapsed": true
   },
   "outputs": [],
   "source": [
    "import numpy as np\n",
    "import pandas as pd\n",
    "import matplotlib.pyplot as plt\n",
    "from sklearn.preprocessing import LabelEncoder"
   ]
  },
  {
   "cell_type": "code",
   "execution_count": 4,
   "metadata": {
    "collapsed": true
   },
   "outputs": [],
   "source": [
    "store = pd.read_csv('store.csv')\n",
    "train = pd.read_csv('train.csv',dtype={\"StateHoliday\": str})\n",
    "test = pd.read_csv('test.csv')"
   ]
  },
  {
   "cell_type": "code",
   "execution_count": 65,
   "metadata": {
    "collapsed": true
   },
   "outputs": [],
   "source": [
    "\"\"\"\n",
    "Functions that help initialise data and include new features to the data set to be trained\n",
    "\"\"\"\n",
    "def initialise_data(train, store):\n",
    "    ## removed 0 sales because they are not used in grading\n",
    "    train = train[train.Sales != 0]\n",
    "    ## fill the N.A.N values\n",
    "    store = store.fillna(0)\n",
    "    ## combine all features together\n",
    "    df = train.merge(store, on='Store')\n",
    "    labels = df.values[:,3]\n",
    "    labels = np.array([labels]).T\n",
    "    return (df, labels)\n",
    "\n",
    "## converting dates into year, month, day and additional feature week of the year\n",
    "def date_convert(df):\n",
    "    df['Date']  = pd.to_datetime(df['Date'], errors='coerce')\n",
    "    df['Year']  = df['Date'].dt.year\n",
    "    df['Month'] = df['Date'].dt.month\n",
    "    df['Day'] = df['Date'].dt.day\n",
    "    df['WeekOfYear'] = df['Date'].dt.weekofyear\n",
    "    return df\n",
    "\n",
    "## adjust and standardise the mappings for all the categorical variables.\n",
    "def mapping_encoding(df):\n",
    "    mappings = {'0': 0, 'a': 1, 'b': 2, 'c': 3, 'd': 4}\n",
    "    mappings_month = {1:'Jan', 2:'Feb', 3:'Mar', 4:'Apr', 5:'May', 6:'Jun', 7:'Jul', 8:'Aug', 9:'Sept', 10:'Oct', 11:'Nov', 12:'Dec'}\n",
    "    ## replace with values so they can be one hot encoded\n",
    "    df.StoreType.replace(mappings, inplace=True)\n",
    "    df.Assortment.replace(mappings, inplace=True)\n",
    "    df.StateHoliday.replace(mappings, inplace=True)\n",
    "    df.PromoInterval.replace(mappings, inplace=True)\n",
    "    \n",
    "    df['StateHoliday'] = LabelEncoder().fit_transform(df['StateHoliday'])\n",
    "    df['Assortment']   = LabelEncoder().fit_transform(df['Assortment'])\n",
    "    df['StoreType']    = LabelEncoder().fit_transform(df['StoreType'])\n",
    "    return df"
   ]
  },
  {
   "cell_type": "code",
   "execution_count": 66,
   "metadata": {},
   "outputs": [],
   "source": [
    "\"\"\"\n",
    "Build Features in the order defined by feature_builders array\n",
    "\"\"\"\n",
    "df, labels = initialise_data(train, store)\n",
    "\n",
    "feature_builders = [date_convert, mapping_encoding]\n",
    "\n",
    "for i in range(len(feature_builders)):\n",
    "    df = feature_builders[i](df)"
   ]
  },
  {
   "cell_type": "code",
   "execution_count": 87,
   "metadata": {},
   "outputs": [
    {
     "name": "stdout",
     "output_type": "stream",
     "text": [
      "[False False  True]\n",
      "[[ 9 10 11 12]]\n"
     ]
    }
   ],
   "source": [
    "\"\"\"\n",
    "Functions Wrappers that return models\n",
    "\"\"\"\n",
    "\n",
    "arr = np.array([[1,2,3,4], [5,6,7,8], [9,10,11,12]])\n",
    "mask = np.ones(3, dtype=bool)\n",
    "mask[0:2] = False\n",
    "print(mask)\n",
    "print(arr[mask])"
   ]
  },
  {
   "cell_type": "code",
   "execution_count": 69,
   "metadata": {},
   "outputs": [],
   "source": [
    "def rmspe(pred, labels):\n",
    "    return np.sqrt(np.mean((pred/labels-1) ** 2))\n",
    "\n",
    "\"\"\"\n",
    "Cross Validation Code\n",
    "\"\"\"\n",
    "def cv(df, labels, model):\n",
    "    df = df.values\n",
    "    num_rows = df.shape[0]\n",
    "    K = 10\n",
    "    for i in range(K):\n",
    "        # Get validation array\n",
    "        start_val = i/K * num_rows\n",
    "        end_val = (i+1)/K * num_rows\n",
    "        if K==10:\n",
    "            end_val = num_rows\n",
    "        \n",
    "        df_val = df[start_val:end_val,:]\n",
    "        \n",
    "        # Get training array by deleting rows for validation\n",
    "        mask = np.ones(len(num_rows), dtype=bool)\n",
    "        mask[start_val:end_val+1] = False\n",
    "        df_train = df[mask]\n",
    "        \n",
    "        \n",
    "        \n",
    "        \n",
    "    # Split DF\n",
    "    "
   ]
  },
  {
   "cell_type": "code",
   "execution_count": 105,
   "metadata": {},
   "outputs": [
    {
     "data": {
      "text/html": [
       "<div>\n",
       "<table border=\"1\" class=\"dataframe\">\n",
       "  <thead>\n",
       "    <tr style=\"text-align: right;\">\n",
       "      <th></th>\n",
       "      <th>Store</th>\n",
       "      <th>DayOfWeek</th>\n",
       "      <th>Date</th>\n",
       "      <th>Customers</th>\n",
       "      <th>Open</th>\n",
       "      <th>Promo</th>\n",
       "      <th>StateHoliday</th>\n",
       "      <th>SchoolHoliday</th>\n",
       "      <th>Id</th>\n",
       "    </tr>\n",
       "  </thead>\n",
       "  <tbody>\n",
       "    <tr>\n",
       "      <th>0</th>\n",
       "      <td>1</td>\n",
       "      <td>5</td>\n",
       "      <td>2015-07-31</td>\n",
       "      <td>555</td>\n",
       "      <td>1</td>\n",
       "      <td>1</td>\n",
       "      <td>0</td>\n",
       "      <td>1</td>\n",
       "      <td>(1, 2015-07-31)</td>\n",
       "    </tr>\n",
       "    <tr>\n",
       "      <th>1</th>\n",
       "      <td>2</td>\n",
       "      <td>5</td>\n",
       "      <td>2015-07-31</td>\n",
       "      <td>625</td>\n",
       "      <td>1</td>\n",
       "      <td>1</td>\n",
       "      <td>0</td>\n",
       "      <td>1</td>\n",
       "      <td>(2, 2015-07-31)</td>\n",
       "    </tr>\n",
       "    <tr>\n",
       "      <th>2</th>\n",
       "      <td>3</td>\n",
       "      <td>5</td>\n",
       "      <td>2015-07-31</td>\n",
       "      <td>821</td>\n",
       "      <td>1</td>\n",
       "      <td>1</td>\n",
       "      <td>0</td>\n",
       "      <td>1</td>\n",
       "      <td>(3, 2015-07-31)</td>\n",
       "    </tr>\n",
       "    <tr>\n",
       "      <th>3</th>\n",
       "      <td>4</td>\n",
       "      <td>5</td>\n",
       "      <td>2015-07-31</td>\n",
       "      <td>1498</td>\n",
       "      <td>1</td>\n",
       "      <td>1</td>\n",
       "      <td>0</td>\n",
       "      <td>1</td>\n",
       "      <td>(4, 2015-07-31)</td>\n",
       "    </tr>\n",
       "    <tr>\n",
       "      <th>4</th>\n",
       "      <td>5</td>\n",
       "      <td>5</td>\n",
       "      <td>2015-07-31</td>\n",
       "      <td>559</td>\n",
       "      <td>1</td>\n",
       "      <td>1</td>\n",
       "      <td>0</td>\n",
       "      <td>1</td>\n",
       "      <td>(5, 2015-07-31)</td>\n",
       "    </tr>\n",
       "  </tbody>\n",
       "</table>\n",
       "</div>"
      ],
      "text/plain": [
       "   Store  DayOfWeek        Date  Customers  Open  Promo  StateHoliday  \\\n",
       "0      1          5  2015-07-31        555     1      1             0   \n",
       "1      2          5  2015-07-31        625     1      1             0   \n",
       "2      3          5  2015-07-31        821     1      1             0   \n",
       "3      4          5  2015-07-31       1498     1      1             0   \n",
       "4      5          5  2015-07-31        559     1      1             0   \n",
       "\n",
       "   SchoolHoliday               Id  \n",
       "0              1  (1, 2015-07-31)  \n",
       "1              1  (2, 2015-07-31)  \n",
       "2              1  (3, 2015-07-31)  \n",
       "3              1  (4, 2015-07-31)  \n",
       "4              1  (5, 2015-07-31)  "
      ]
     },
     "execution_count": 105,
     "metadata": {},
     "output_type": "execute_result"
    }
   ],
   "source": [
    "store1 = df.loc[df.Store == 1]\n",
    "#store1.CompetitionOpenSinceYear\n",
    "#plt.plot(store1.CompetitionOpenSinceMonth)\n",
    "#plt.plot(store1.Sales)\n",
    "plt.show()\n",
    "s = test[\"Store\"]\n",
    "d = test[\"Date\"]\n",
    "test['Id'] = list(zip(test.Store, test.Date))\n",
    "test.head()"
   ]
  },
  {
   "cell_type": "markdown",
   "metadata": {},
   "source": [
    "References:\n",
    "- https://datascience.stackexchange.com/questions/9777/one-hot-vector-representation-vs-label-encoding-for-categorical-variables\n",
    "- https://datascience.stackexchange.com/questions/9443/when-to-use-one-hot-encoding-vs-labelencoder-vs-dictvectorizor"
   ]
  }
 ],
 "metadata": {
  "kernelspec": {
   "display_name": "Python 3",
   "language": "python",
   "name": "python3"
  },
  "language_info": {
   "codemirror_mode": {
    "name": "ipython",
    "version": 3
   },
   "file_extension": ".py",
   "mimetype": "text/x-python",
   "name": "python",
   "nbconvert_exporter": "python",
   "pygments_lexer": "ipython3",
   "version": "3.6.1"
  }
 },
 "nbformat": 4,
 "nbformat_minor": 2
}
